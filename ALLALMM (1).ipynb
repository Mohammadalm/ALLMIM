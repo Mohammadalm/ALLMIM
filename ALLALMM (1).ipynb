{
  "cells": [
    {
      "metadata": {
        "id": "Rg_QtjLLT1yw"
      },
      "cell_type": "markdown",
      "source": [
        "![image](https://raw.githubusercontent.com/IBM/watson-machine-learning-samples/master/cloud/notebooks/headers/watsonx-Prompt_Lab-Notebook.png)\n",
        "# Prompt Notebook with Chat - Prompt Lab Notebook v1.1.0\n",
        "This notebook contains steps and code to demonstrate inferencing of prompts\n",
        "generated in Prompt Lab in watsonx.ai with a chat format. It introduces Python API commands\n",
        "for authentication using API key and prompt inferencing using WML API.\n",
        "\n",
        "**Note:** Notebook code generated using Prompt Lab will execute successfully.\n",
        "If code is modified or reordered, there is no guarantee it will successfully execute.\n",
        "For details, see: <a href=\"/docs/content/wsj/analyze-data/fm-prompt-save.html?context=wx\" target=\"_blank\">Saving your work in Prompt Lab as a notebook.</a>\n",
        "\n",
        "Some familiarity with Python is helpful. This notebook uses Python 3.10.\n",
        "\n",
        "## Notebook goals\n",
        "The learning goals of this notebook are:\n",
        "\n",
        "* Defining a Python function for obtaining credentials from the IBM Cloud personal API key\n",
        "* Defining parameters of the Model object\n",
        "* Using the Model object to generate response using the defined model id, parameters and the prompt input\n",
        "\n",
        "# Setup"
      ]
    },
    {
      "metadata": {
        "id": "l0WS2490T1yz"
      },
      "cell_type": "markdown",
      "source": [
        "## watsonx API connection\n",
        "This cell defines the credentials required to work with watsonx API for Foundation\n",
        "Model inferencing.\n",
        "\n",
        "**Action:** Provide the IBM Cloud personal API key. For details, see\n",
        "<a href=\"https://cloud.ibm.com/docs/account?topic=account-userapikey&interface=ui\" target=\"_blank\">documentation</a>.\n"
      ]
    },
    {
      "metadata": {
        "id": "EQdJwJT0T1y0"
      },
      "cell_type": "code",
      "source": [
        "import os\n",
        "import getpass\n",
        "\n",
        "def get_credentials():\n",
        "\treturn {\n",
        "\t\t\"url\" : \"https://eu-de.ml.cloud.ibm.com\",\n",
        "\t\t\"apikey\" : getpass.getpass(\"kliy2ZLKP46T-EtH4mHlU7bX7twpU4LCDGDKaTHYFdgV \")\n",
        "\t}\n"
      ],
      "execution_count": null,
      "outputs": []
    },
    {
      "metadata": {
        "id": "eXstnEgST1y1"
      },
      "cell_type": "markdown",
      "source": [
        "# Inferencing\n",
        "This cell demonstrated how we can use the model object as well as the created access token\n",
        "to pair it with parameters and input string to obtain\n",
        "the response from the the selected foundation model.\n",
        "\n",
        "## Defining the model id\n",
        "We need to specify model id that will be used for inferencing:\n"
      ]
    },
    {
      "metadata": {
        "id": "0lajTFJPT1y2"
      },
      "cell_type": "code",
      "source": [
        "model_id = \"sdaia/allam-1-13b-instruct\"\n"
      ],
      "execution_count": null,
      "outputs": []
    },
    {
      "metadata": {
        "id": "iVJzSKoAT1y2"
      },
      "cell_type": "markdown",
      "source": [
        "## Defining the model parameters\n",
        "We need to provide a set of model parameters that will influence the\n",
        "result:"
      ]
    },
    {
      "metadata": {
        "id": "Criq0FT-T1y3"
      },
      "cell_type": "code",
      "source": [
        "parameters = {\n",
        "    \"decoding_method\": \"greedy\",\n",
        "    \"max_new_tokens\": 900,\n",
        "    \"repetition_penalty\": 1\n",
        "}"
      ],
      "execution_count": null,
      "outputs": []
    },
    {
      "metadata": {
        "id": "UvManzk7T1y3"
      },
      "cell_type": "markdown",
      "source": [
        "## Defining the project id or space id\n",
        "The API requires project id or space id that provides the context for the call. We will obtain\n",
        "the id from the project or space in which this notebook runs:"
      ]
    },
    {
      "metadata": {
        "id": "fdQ01QlkT1y3"
      },
      "cell_type": "code",
      "source": [
        "project_id = os.getenv(\"PROJECT_ID\")\n",
        "space_id = os.getenv(\"SPACE_ID\")\n"
      ],
      "execution_count": null,
      "outputs": []
    },
    {
      "metadata": {
        "id": "_rFdMhjPT1y3"
      },
      "cell_type": "markdown",
      "source": [
        "## Defining the Model object\n",
        "We need to define the Model object using the properties we defined so far:\n"
      ]
    },
    {
      "metadata": {
        "id": "r9juKSUnT1y4"
      },
      "cell_type": "code",
      "source": [
        "from ibm_watsonx_ai.foundation_models import Model\n",
        "\n",
        "model = Model(\n",
        "\tmodel_id = model_id,\n",
        "\tparams = parameters,\n",
        "\tcredentials = get_credentials(),\n",
        "\tproject_id = project_id,\n",
        "\tspace_id = space_id\n",
        "\t)\n"
      ],
      "execution_count": null,
      "outputs": []
    },
    {
      "metadata": {
        "id": "1tepzEDKT1y4"
      },
      "cell_type": "code",
      "source": [
        "!pip install \"pydantic<2.0\"\n",
        "!pip install --upgrade fastapi\n",
        "!pip install  uvicorn pyngrok nest-asyncio"
      ],
      "execution_count": null,
      "outputs": []
    },
    {
      "metadata": {
        "id": "ubg6xVg4T1y4"
      },
      "cell_type": "code",
      "source": [
        "import nest_asyncio\n",
        "from fastapi import FastAPI, HTTPException\n",
        "from fastapi.middleware.cors import CORSMiddleware\n",
        "from pydantic import BaseModel\n",
        "from pyngrok import ngrok, conf\n",
        "import uvicorn\n",
        "import asyncio\n",
        "import logging\n",
        "import os\n",
        "import atexit\n",
        "\n",
        "# Apply nest_asyncio at the start\n",
        "nest_asyncio.apply()\n",
        "\n",
        "# Configure logging\n",
        "logging.basicConfig(level=logging.INFO)\n",
        "logger = logging.getLogger(__name__)\n",
        "\n",
        "# Initialize FastAPI app\n",
        "app = FastAPI()\n",
        "app.add_middleware(\n",
        "    CORSMiddleware,\n",
        "    allow_origins=['*'],\n",
        "    allow_credentials=True,\n",
        "    allow_methods=['*'],\n",
        "    allow_headers=['*'],\n",
        ")\n",
        "\n",
        "# Define data model\n",
        "class ChatRequest(BaseModel):\n",
        "    message: str\n",
        "\n",
        "# Define your endpoints\n",
        "@app.get('/')\n",
        "async def root():\n",
        "    return {'welcome': 'to iEraab'}\n",
        "\n",
        "@app.post(\"/chat\")\n",
        "async def chat_endpoint(request: ChatRequest):\n",
        "    try:\n",
        "        user_message = request.message\n",
        "        prompt = f\"\"\"/content/data.json\"\"\n",
        "\n",
        "{user_message}\n",
        "        \"\"\"\n",
        "        analysis_result = model.generate_text(prompt=prompt)\n",
        "        return {\"response\": analysis_result}\n",
        "    except Exception as e:\n",
        "        logger.error(f\"Error processing chat request: {str(e)}\")\n",
        "        raise HTTPException(status_code=500, detail=\"Internal server error\")\n",
        "\n",
        "def setup_ngrok():\n",
        "    # Kill any existing ngrok processes\n",
        "    ngrok.kill()\n",
        "\n",
        "    # Set up ngrok configuration\n",
        "    auth_token = \"2o1hrQhcITYBZiJMteSIMA0traR_6RHiB2cPxsNXVTPb5xsVX\"\n",
        "    conf.get_default().auth_token = auth_token\n",
        "\n",
        "    try:\n",
        "        # Start a new tunnel\n",
        "        tunnel = ngrok.connect(8000)\n",
        "        logger.info(f'Public URL: {tunnel.public_url}')\n",
        "        return tunnel\n",
        "    except Exception as e:\n",
        "        logger.error(f\"Failed to establish ngrok tunnel: {str(e)}\")\n",
        "        raise\n",
        "\n",
        "def cleanup():\n",
        "    logger.info(\"Cleaning up ngrok processes...\")\n",
        "    ngrok.kill()\n",
        "\n",
        "async def start_server():\n",
        "    # Register cleanup function\n",
        "    atexit.register(cleanup)\n",
        "\n",
        "    try:\n",
        "        # Setup ngrok\n",
        "        tunnel = setup_ngrok()\n",
        "\n",
        "        # Configure and start uvicorn\n",
        "        config = uvicorn.Config(\n",
        "            app,\n",
        "            host=\"127.0.0.1\",\n",
        "            port=8000,\n",
        "            log_level=\"info\",\n",
        "            loop=\"asyncio\"\n",
        "        )\n",
        "        server = uvicorn.Server(config)\n",
        "        await server.serve()\n",
        "    except Exception as e:\n",
        "        logger.error(f\"Server error: {str(e)}\")\n",
        "        cleanup()\n",
        "        raise\n",
        "\n",
        "if __name__ == \"__main__\":\n",
        "    asyncio.run(start_server())"
      ],
      "execution_count": null,
      "outputs": []
    },
    {
      "metadata": {
        "id": "eyMV4NfPT1y5"
      },
      "cell_type": "code",
      "source": [
        " ngrok.kill()"
      ],
      "execution_count": null,
      "outputs": []
    },
    {
      "metadata": {
        "id": "RIZSpupOT1y5"
      },
      "cell_type": "code",
      "source": [
        "# Frontend for chat interaction in Jupyter notebook\n",
        "from IPython.display import display, HTML\n",
        "\n",
        "html_code = f\"\"\"\n",
        "<!DOCTYPE html>\n",
        "<html lang=\"en\">\n",
        "<head>\n",
        "  <meta charset=\"UTF-8\">\n",
        "  <meta name=\"viewport\" content=\"width=device-width, initial-scale=1.0\">\n",
        "  <title>iEraab - Arabic Grammar Analysis</title>\n",
        "  <style>\n",
        "    @import url('https://fonts.googleapis.com/css2?family=Noto+Kufi+Arabic:wght@400;600;700&display=swap');\n",
        "\n",
        "    body {{\n",
        "      font-family: 'Noto Kufi Arabic', sans-serif;\n",
        "      background-color: #f5f5f5;\n",
        "    }}\n",
        "\n",
        "    .container {{\n",
        "      max-width: 800px;\n",
        "      margin: 0 auto;\n",
        "      padding: 40px 20px;\n",
        "    }}\n",
        "\n",
        "    .header {{\n",
        "      text-align: center;\n",
        "      margin-bottom: 30px;\n",
        "    }}\n",
        "\n",
        "    .header h1 {{\n",
        "      color: #0084ff;\n",
        "      font-size: 36px;\n",
        "      font-weight: 700;\n",
        "    }}\n",
        "\n",
        "    .chat-container {{\n",
        "      border: 1px solid #ddd;\n",
        "      padding: 20px;\n",
        "      height: 450px;\n",
        "      overflow-y: auto;\n",
        "      background-color: white;\n",
        "      border-radius: 10px;\n",
        "      box-shadow: 0 4px 10px rgba(0, 0, 0, 0.1);\n",
        "      margin-bottom: 30px;\n",
        "    }}\n",
        "\n",
        "    .user-message, .ai-message {{\n",
        "      margin: 12px 0;\n",
        "      padding: 12px 16px;\n",
        "      border-radius: 20px;\n",
        "      max-width: 70%;\n",
        "      font-size: 16px;\n",
        "      line-height: 1.4;\n",
        "    }}\n",
        "\n",
        "    .user-message {{\n",
        "      background-color: #e6f2ff;\n",
        "      color: #0077b6;\n",
        "      align-self: flex-end;\n",
        "    }}\n",
        "\n",
        "    .ai-message {{\n",
        "      background-color: #e6ffe6;\n",
        "      color: #006400;\n",
        "      align-self: flex-start;\n",
        "    }}\n",
        "\n",
        "    .input-container {{\n",
        "      display: flex;\n",
        "      align-items: center;\n",
        "    }}\n",
        "\n",
        "    #user-input {{\n",
        "      flex-grow: 1;\n",
        "      padding: 12px 16px;\n",
        "      border: 1px solid #ddd;\n",
        "      border-radius: 20px;\n",
        "      font-size: 16px;\n",
        "    }}\n",
        "\n",
        "    #send-button {{\n",
        "      margin-left: 12px;\n",
        "      padding: 12px 24px;\n",
        "      background-color: #0084ff;\n",
        "      color: white;\n",
        "      border: none;\n",
        "      border-radius: 20px;\n",
        "      cursor: pointer;\n",
        "      font-size: 16px;\n",
        "      transition: background-color 0.3s;\n",
        "    }}\n",
        "\n",
        "    #send-button:hover {{\n",
        "      background-color: #0069d9;\n",
        "    }}\n",
        "\n",
        "    .loading-indicator {{\n",
        "      display: none;\n",
        "      margin-left: 12px;\n",
        "      border: 4px solid #f3f3f3;\n",
        "      border-top: 4px solid #3498db;\n",
        "      border-radius: 50%;\n",
        "      width: 30px;\n",
        "      height: 30px;\n",
        "      animation: spin 2s linear infinite;\n",
        "    }}\n",
        "\n",
        "    @keyframes spin {{\n",
        "      0% {{ transform: rotate(0deg); }}\n",
        "      100% {{ transform: rotate(360deg); }}\n",
        "    }}\n",
        "  </style>\n",
        "</head>\n",
        "<body>\n",
        "  <div class=\"container\">\n",
        "    <div class=\"header\">\n",
        "      <h1>iEraab - Arabic Grammar Analysis</h1>\n",
        "      <p>Unlock the secrets of Arabic grammar with our advanced analysis tool.</p>\n",
        "    </div>\n",
        "    <div class=\"chat-container\" id=\"chat-container\"></div>\n",
        "    <div class=\"input-container\">\n",
        "      <input type=\"text\" id=\"user-input\" placeholder=\"Enter your Arabic text here...\" autocomplete=\"off\">\n",
        "      <button id=\"send-button\" onclick=\"sendMessage()\">Analyze</button>\n",
        "      <div class=\"loading-indicator\" id=\"loading-indicator\"></div>\n",
        "    </div>\n",
        "  </div>\n",
        "\n",
        "  <script>\n",
        "    const API_URL = '{ngrok_tunnel.public_url}/chat';\n",
        "\n",
        "    async function sendMessage() {{\n",
        "      const input = document.getElementById('user-input');\n",
        "      const message = input.value.trim();\n",
        "      if (message) {{\n",
        "        const chatContainer = document.getElementById('chat-container');\n",
        "        const loadingIndicator = document.getElementById('loading-indicator');\n",
        "\n",
        "        // Display user message\n",
        "        const userMessage = document.createElement('div');\n",
        "        userMessage.classList.add('user-message');\n",
        "        userMessage.textContent = message;\n",
        "        chatContainer.appendChild(userMessage);\n",
        "\n",
        "        loadingIndicator.style.display = 'block';\n",
        "        input.value = '';\n",
        "\n",
        "        try {{\n",
        "          const response = await fetch(API_URL, {{\n",
        "            method: 'POST',\n",
        "            headers: {{\n",
        "              'Content-Type': 'application/json'\n",
        "            }},\n",
        "            body: JSON.stringify({{ message: message }})\n",
        "          }});\n",
        "\n",
        "          if (!response.ok) {{\n",
        "            throw new Error(`HTTP error! status: ${{response.status}}`);\n",
        "          }}\n",
        "\n",
        "          const data = await response.json();\n",
        "          const analysisResult = data.response || \"No response from API.\";\n",
        "\n",
        "          const aiMessage = document.createElement('div');\n",
        "          aiMessage.classList.add('ai-message');\n",
        "          aiMessage.textContent = analysisResult;\n",
        "          chatContainer.appendChild(aiMessage);\n",
        "        }} catch (error) {{\n",
        "          const errorMessage = document.createElement('div');\n",
        "          errorMessage.classList.add('ai-message');\n",
        "          errorMessage.style.color = 'red';\n",
        "          errorMessage.textContent = \"Error: \" + error.message;\n",
        "          chatContainer.appendChild(errorMessage);\n",
        "        }} finally {{\n",
        "          loadingIndicator.style.display = 'none';\n",
        "        }}\n",
        "\n",
        "        chatContainer.scrollTop = chatContainer.scrollHeight;\n",
        "      }}\n",
        "    }}\n",
        "\n",
        "    document.getElementById('user-input').addEventListener('keypress', function(event) {{\n",
        "      if (event.key === 'Enter') {{\n",
        "        sendMessage();\n",
        "      }}\n",
        "    }});\n",
        "  </script>\n",
        "</body>\n",
        "</html>\n",
        "\"\"\"\n",
        "\n",
        "display(HTML(html_code))"
      ],
      "execution_count": null,
      "outputs": []
    },
    {
      "metadata": {
        "id": "h6L3SipmT1y6"
      },
      "cell_type": "code",
      "source": [
        "! ngrok kill all"
      ],
      "execution_count": null,
      "outputs": []
    },
    {
      "metadata": {
        "id": "AqqCBvyBT1y6"
      },
      "cell_type": "markdown",
      "source": [
        "## Defining the inferencing input for chat\n",
        "Foundation models supporting chat accept a system prompt that instructs the model on how to conduct the dialog. They also accept previous questions and answers to give additional context when inferencing. Each model has it's own string format for constructing the input.\n",
        "\n",
        "Let us provide the input we got from the Prompt Lab and format it for the selected model:\n"
      ]
    },
    {
      "metadata": {
        "id": "wQdtIc2hT1y6"
      },
      "cell_type": "code",
      "source": [
        "prompt_input = \"\"\"\"\"\"\n"
      ],
      "execution_count": null,
      "outputs": []
    },
    {
      "metadata": {
        "id": "Vb5NT-q8T1y6"
      },
      "cell_type": "markdown",
      "source": [
        "## Execution\n",
        "Let us now use the defined Model object, pair it with the input, and generate the response to your question:\n"
      ]
    },
    {
      "metadata": {
        "id": "h04o6kHxT1y7"
      },
      "cell_type": "code",
      "source": [
        "question = input(\"Question: \")\n",
        "formattedQuestion = f\"\"\"<s> [INST] {question} [/INST]\"\"\"\n",
        "prompt = f\"\"\"{prompt_input}{formattedQuestion}\"\"\"\n",
        "generated_response = model.generate_text(prompt=prompt, guardrails=False)\n",
        "print(f\"AI: {generated_response}\")\n"
      ],
      "execution_count": null,
      "outputs": []
    },
    {
      "metadata": {
        "id": "FWQo82LHT1y7"
      },
      "cell_type": "markdown",
      "source": [
        "# Next steps\n",
        "You successfully completed this notebook! You learned how to use\n",
        "watsonx.ai inferencing SDK to generate response from the foundation model\n",
        "based on the provided input, model id and model parameters. Check out the\n",
        "official watsonx.ai site for more samples, tutorials, documentation, how-tos, and blog posts.\n",
        "\n",
        "<a id=\"copyrights\"></a>\n",
        "### Copyrights\n",
        "\n",
        "Licensed Materials - Copyright © 2023 IBM. This notebook and its source code are released under the terms of the ILAN License.\n",
        "Use, duplication disclosure restricted by GSA ADP Schedule Contract with IBM Corp.\n",
        "\n",
        "**Note:** The auto-generated notebooks are subject to the International License Agreement for Non-Warranted Programs (or equivalent) and License Information document for watsonx.ai Auto-generated Notebook (License Terms), such agreements located in the link below. Specifically, the Source Components and Sample Materials clause included in the License Information document for Watson Studio Auto-generated Notebook applies to the auto-generated notebooks.  \n",
        "\n",
        "By downloading, copying, accessing, or otherwise using the materials, you agree to the <a href=\"https://www14.software.ibm.com/cgi-bin/weblap/lap.pl?li_formnum=L-AMCU-BYC7LF\" target=\"_blank\">License Terms</a>  "
      ]
    }
  ],
  "metadata": {
    "kernelspec": {
      "name": "python3",
      "display_name": "Python 3.10",
      "language": "python"
    },
    "language_info": {
      "name": "python",
      "version": "3.10.14",
      "mimetype": "text/x-python",
      "codemirror_mode": {
        "name": "ipython",
        "version": 3
      },
      "pygments_lexer": "ipython3",
      "nbconvert_exporter": "python",
      "file_extension": ".py"
    },
    "colab": {
      "provenance": []
    }
  },
  "nbformat": 4,
  "nbformat_minor": 0
}